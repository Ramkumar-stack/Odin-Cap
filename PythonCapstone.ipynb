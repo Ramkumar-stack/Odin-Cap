{
  "nbformat": 4,
  "nbformat_minor": 0,
  "metadata": {
    "colab": {
      "provenance": [],
      "authorship_tag": "ABX9TyMqhEUj5QsWnCghOlbjmCAd",
      "include_colab_link": true
    },
    "kernelspec": {
      "name": "python3",
      "display_name": "Python 3"
    },
    "language_info": {
      "name": "python"
    }
  },
  "cells": [
    {
      "cell_type": "markdown",
      "metadata": {
        "id": "view-in-github",
        "colab_type": "text"
      },
      "source": [
        "<a href=\"https://colab.research.google.com/github/Ramkumar-stack/Odin-Cap/blob/main/PythonCapstone.ipynb\" target=\"_parent\"><img src=\"https://colab.research.google.com/assets/colab-badge.svg\" alt=\"Open In Colab\"/></a>"
      ]
    },
    {
      "cell_type": "code",
      "execution_count": 2,
      "metadata": {
        "id": "HKayv-d8JZuu"
      },
      "outputs": [],
      "source": [
        "import random\n",
        "\n",
        "def generate_otp():\n",
        "    otp = random.randint(100000, 999999)\n",
        "    return otp"
      ]
    },
    {
      "cell_type": "code",
      "source": [
        "print(generate_otp())"
      ],
      "metadata": {
        "colab": {
          "base_uri": "https://localhost:8080/"
        },
        "id": "NTR5gtDEJh8c",
        "outputId": "1001b1fc-9733-4cac-ffc4-b01c31803c83"
      },
      "execution_count": 5,
      "outputs": [
        {
          "output_type": "stream",
          "name": "stdout",
          "text": [
            "236535\n"
          ]
        }
      ]
    },
    {
      "cell_type": "code",
      "source": [
        "import smtplib\n",
        "from email.mime.text import MIMEText\n",
        "\n",
        "def send_otp_email(recipient_email, otp):\n",
        "    sender_email = \"ramkumar.sembaiyan@gmail.com\"\n",
        "    sender_password = \"qptk mtpu looe wjiu\"\n",
        "\n",
        "    subject = \"Your OTP Code\"\n",
        "    body = f\"Your OTP is {otp}. Please use this code to verify your identity.\"\n",
        "\n",
        "    msg = MIMEText(body)\n",
        "    msg['Subject'] = subject\n",
        "    msg['From'] = sender_email\n",
        "    msg['To'] = recipient_email\n",
        "\n",
        "    try:\n",
        "        with smtplib.SMTP_SSL('smtp.gmail.com', 465) as server:\n",
        "            server.login(sender_email, sender_password)\n",
        "            server.sendmail(sender_email, recipient_email, msg.as_string())\n",
        "        print(\"OTP sent successfully.\")\n",
        "    except Exception as e:\n",
        "        print(f\"Failed to send OTP: {e}\")"
      ],
      "metadata": {
        "id": "2yLeRjqbJyb0"
      },
      "execution_count": 20,
      "outputs": []
    },
    {
      "cell_type": "code",
      "source": [
        "def get_user_input():\n",
        "    return input(\"Enter the OTP sent to your email: \")"
      ],
      "metadata": {
        "id": "DuZcnj0pJ6uv"
      },
      "execution_count": 13,
      "outputs": []
    },
    {
      "cell_type": "code",
      "source": [
        "def verify_otp(generated_otp, user_otp):\n",
        "    if generated_otp == user_otp:\n",
        "        return True\n",
        "    return False"
      ],
      "metadata": {
        "id": "3uelryvZJ_pX"
      },
      "execution_count": 14,
      "outputs": []
    },
    {
      "cell_type": "code",
      "source": [
        "def otp_verification_system():\n",
        "    otp = generate_otp()\n",
        "    recipient_email = input(\"Enter your email address: \")\n",
        "\n",
        "    # Simulate sending the OTP\n",
        "    send_otp_email(recipient_email, otp)\n",
        "\n",
        "    for _ in range(3):  # Allow up to 3 attempts\n",
        "        user_otp = get_user_input()\n",
        "        if verify_otp(otp, int(user_otp)):\n",
        "            print(\"Access Granted.\")\n",
        "            return\n",
        "        else:\n",
        "            print(\"Invalid OTP. Please try again.\")\n",
        "\n",
        "    print(\"Access Denied. Too many incorrect attempts.\")"
      ],
      "metadata": {
        "id": "3PejH2P0KGz8"
      },
      "execution_count": 18,
      "outputs": []
    },
    {
      "cell_type": "code",
      "source": [
        "otp_verification_system()"
      ],
      "metadata": {
        "colab": {
          "base_uri": "https://localhost:8080/"
        },
        "id": "zIenX4XLKLVU",
        "outputId": "6adb42e8-1240-4e80-bc74-409651bab95a"
      },
      "execution_count": 22,
      "outputs": [
        {
          "output_type": "stream",
          "name": "stdout",
          "text": [
            "Enter your email address: ram_amb@yahoo.com\n",
            "OTP sent successfully.\n",
            "Enter the OTP sent to your email: 1111\n",
            "Invalid OTP. Please try again.\n",
            "Enter the OTP sent to your email: 317302\n",
            "Access Granted.\n"
          ]
        }
      ]
    }
  ]
}